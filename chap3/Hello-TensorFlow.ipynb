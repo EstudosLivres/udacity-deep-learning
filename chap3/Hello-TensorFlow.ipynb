{
 "cells": [
  {
   "cell_type": "code",
   "execution_count": 15,
   "metadata": {},
   "outputs": [
    {
     "name": "stdout",
     "output_type": "stream",
     "text": [
      "b'Ol\\xc3\\xa1, Mundo!'\n"
     ]
    }
   ],
   "source": [
    "import tensorflow as tf\n",
    "\n",
    "# Cria um objeto tensor no TensorFlow\n",
    "hello_constant = tf.constant('Olá, Mundo!')\n",
    "\n",
    "with tf.Session() as sess:\n",
    "    # Roda a operação tf.constant na sessão\n",
    "    output = sess.run(hello_constant)\n",
    "    print(output)"
   ]
  },
  {
   "cell_type": "markdown",
   "metadata": {},
   "source": [
    "# Tensor\n",
    "\n",
    "No TensorFlow, os dados não são salvos em intergers, floats e strings. Estes valores são encapsulados em um objeto chamado de tensor. No caso de ```hello_constant = tf.constant('Olá, Mundo!')```, ```hello_constant``` é um ```tensor string``` de __0 dimensões__(é um escalar (IAL)), mas os tensores vêm em uma variedade de tamanhos, tal como vemos a seguir:\n",
    "\n",
    "```python\n",
    "    # A é um tensor int32 de 0 dimensões\n",
    "    A = tf.constant(1234) \n",
    "    # B é um tensor int32 de 1 dimensão\n",
    "    B = tf.constant([123,456,789]) \n",
    "     # C é um tensor int32 de 2 dimensões\n",
    "    C = tf.constant([ [123,456,789], [222,333,444] ])\n",
    "    # D é um tensor float32 de 2 dimensões\n",
    "    D = tf.constant([ [123.45,456.21,789.76], [222.0,333.2,444.1] ])\n",
    "```\n",
    "\n",
    "Ao usar o método .contant() recebemos um tensor que não terá seus valores mudados."
   ]
  },
  {
   "cell_type": "markdown",
   "metadata": {},
   "source": [
    "# Sessão\n",
    "\n",
    "API Tesor segue a ideia de __grafo computacional__, um modo de visualizar os processos matemáticos (como os vistos no MiniFlow) executando em tempo-real."
   ]
  },
  {
   "cell_type": "code",
   "execution_count": 16,
   "metadata": {
    "collapsed": true
   },
   "outputs": [],
   "source": [
    "# O código cria uma instância de sessão, sess, usando tf.Session. \n",
    "# A função sess.run() então avalia o tensor e retorna os resultados.\n",
    "with tf.Session() as sess:\n",
    "    output = sess.run(hello_constant)\n",
    "    sess.close()"
   ]
  },
  {
   "cell_type": "code",
   "execution_count": 17,
   "metadata": {},
   "outputs": [
    {
     "data": {
      "text/plain": [
       "b'Ol\\xc3\\xa1, Mundo!'"
      ]
     },
     "execution_count": 17,
     "metadata": {},
     "output_type": "execute_result"
    }
   ],
   "source": [
    "output"
   ]
  },
  {
   "cell_type": "markdown",
   "metadata": {
    "collapsed": true
   },
   "source": [
    "# Placeholder\n",
    "\n",
    "__tf.placeholder()__ retorna um tensor que pega o valor dos dados passados para a função __tf.session.run()__, permitindo que você decida o input logo __antes da sessão rodar__."
   ]
  },
  {
   "cell_type": "code",
   "execution_count": 18,
   "metadata": {
    "collapsed": true
   },
   "outputs": [],
   "source": [
    "# feed_dict da Sessão\n",
    "x = tf.placeholder(tf.string)\n",
    "y = tf.placeholder(tf.int32)\n",
    "z = tf.placeholder(tf.float32)\n",
    "\n",
    "with tf.Session() as sess:\n",
    "    output = sess.run(x, feed_dict={x: 'Test String', y: 123, z: 45.67})\n",
    "    sess.close()"
   ]
  },
  {
   "cell_type": "code",
   "execution_count": 14,
   "metadata": {},
   "outputs": [
    {
     "data": {
      "text/plain": [
       "array('Test String', dtype=object)"
      ]
     },
     "execution_count": 14,
     "metadata": {},
     "output_type": "execute_result"
    }
   ],
   "source": [
    "output"
   ]
  },
  {
   "cell_type": "markdown",
   "metadata": {},
   "source": [
    "# Funções Matemáticas\n",
    "\n",
    "Vale apena lembrar que os cálculos a seguir não são numéricos (5+2), mas sim um Tensor(5) + Tensor(2).\n",
    "\n",
    "Exemplo de typecast no TensorFlow: tf.cast(tf.constant(1), tf.float64)\n",
    "\n",
    "Não é possível fazer cálculo com Tensores de tipos diferentes:\n",
    "```python\n",
    "    tf.subtract(tf.constant(2.0),tf.constant(1))  # Fails with ValueError: Tensor conversion requested dtype float32 for Tensor with dtype int32:\n",
    "    tf.subtract(tf.cast(tf.constant(2.0), tf.int32), tf.constant(1))   # 1\n",
    "```\n",
    "\n",
    "### Adição\n",
    "```python\n",
    "    x = tf.add(5, 2)  # 7\n",
    "```\n",
    "\n",
    "### Subtração & Multiplicação\n",
    "```python\n",
    "    x = tf.subtract(10, 4) # 6\n",
    "    y = tf.multiply(2, 5)  # 10\n",
    "```\n"
   ]
  },
  {
   "cell_type": "code",
   "execution_count": 19,
   "metadata": {
    "collapsed": true
   },
   "outputs": [],
   "source": [
    "# Simple Tensor Math conversion\n",
    "import tensorflow as tf\n",
    "\n",
    "# TODO: Convert the following to TensorFlow:\n",
    "x = 10\n",
    "y = 2\n",
    "z = x/y - 1\n",
    "\n",
    "# TODO: Print z from a session"
   ]
  },
  {
   "cell_type": "code",
   "execution_count": 20,
   "metadata": {},
   "outputs": [
    {
     "name": "stdout",
     "output_type": "stream",
     "text": [
      "4.0\n"
     ]
    }
   ],
   "source": [
    "# Quiz Solution\n",
    "import tensorflow as tf\n",
    "\n",
    "# TODO: Convert the following to TensorFlow:\n",
    "x = tf.constant(10)\n",
    "y = tf.constant(2)\n",
    "z = tf.subtract(tf.divide(x,y),tf.cast(tf.constant(1), tf.float64))\n",
    "\n",
    "# TODO: Print z from a session\n",
    "with tf.Session() as sess:\n",
    "    output = sess.run(z)\n",
    "    print(output)\n"
   ]
  },
  {
   "cell_type": "code",
   "execution_count": null,
   "metadata": {
    "collapsed": true
   },
   "outputs": [],
   "source": []
  }
 ],
 "metadata": {
  "kernelspec": {
   "display_name": "Python 3",
   "language": "python",
   "name": "python3"
  },
  "language_info": {
   "codemirror_mode": {
    "name": "ipython",
    "version": 3
   },
   "file_extension": ".py",
   "mimetype": "text/x-python",
   "name": "python",
   "nbconvert_exporter": "python",
   "pygments_lexer": "ipython3",
   "version": "3.6.1"
  }
 },
 "nbformat": 4,
 "nbformat_minor": 2
}
