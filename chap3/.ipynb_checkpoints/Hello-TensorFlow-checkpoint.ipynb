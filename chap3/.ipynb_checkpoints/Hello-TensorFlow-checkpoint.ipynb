{
 "cells": [
  {
   "cell_type": "code",
   "execution_count": 3,
   "metadata": {},
   "outputs": [
    {
     "name": "stdout",
     "output_type": "stream",
     "text": [
      "b'Ol\\xc3\\xa1, Mundo!'\n"
     ]
    }
   ],
   "source": [
    "import tensorflow as tf\n",
    "\n",
    "# Cria um objeto tensor no TensorFlow\n",
    "hello_constant = tf.constant('Olá, Mundo!')\n",
    "\n",
    "with tf.Session() as sess:\n",
    "    # Roda a operação tf.constant na sessão\n",
    "    output = sess.run(hello_constant)\n",
    "    print(output)"
   ]
  },
  {
   "cell_type": "markdown",
   "metadata": {},
   "source": [
    "# Tensor\n",
    "\n",
    "No TensorFlow, os dados não são salvos em intergers, floats e strings. Estes valores são encapsulados em um objeto chamado de tensor. No caso de ```hello_constant = tf.constant('Olá, Mundo!')```, ```hello_constant``` é um ```tensor string``` de __0 dimensões__(é um escalar (IAL)), mas os tensores vêm em uma variedade de tamanhos, tal como vemos a seguir:\n",
    "\n",
    "```python\n",
    "    # A é um tensor int32 de 0 dimensões\n",
    "    A = tf.constant(1234) \n",
    "    # B é um tensor int32 de 1 dimensão\n",
    "    B = tf.constant([123,456,789]) \n",
    "     # C é um tensor int32 de 2 dimensões\n",
    "    C = tf.constant([ [123,456,789], [222,333,444] ])\n",
    "    # D é um tensor float32 de 2 dimensões\n",
    "    D = tf.constant([ [123.45,456.21,789.76], [222.0,333.2,444.1] ])\n",
    "```\n",
    "\n",
    "Ao usar o método .contant() recebemos um tensor que não terá seus valores mudados."
   ]
  },
  {
   "cell_type": "markdown",
   "metadata": {},
   "source": [
    "# Sessão\n",
    "\n",
    "API Tesor segue a ideia de __grafo computacional__, um modo de visualizar os processos matemáticos (como os vistos no MiniFlow) executando em tempo-real."
   ]
  },
  {
   "cell_type": "code",
   "execution_count": 6,
   "metadata": {
    "collapsed": true
   },
   "outputs": [],
   "source": [
    "# O código cria uma instância de sessão, sess, usando tf.Session. \n",
    "# A função sess.run() então avalia o tensor e retorna os resultados.\n",
    "with tf.Session() as sess:\n",
    "    output = sess.run(hello_constant)"
   ]
  },
  {
   "cell_type": "code",
   "execution_count": null,
   "metadata": {
    "collapsed": true
   },
   "outputs": [],
   "source": []
  }
 ],
 "metadata": {
  "kernelspec": {
   "display_name": "Python 3",
   "language": "python",
   "name": "python3"
  },
  "language_info": {
   "codemirror_mode": {
    "name": "ipython",
    "version": 3
   },
   "file_extension": ".py",
   "mimetype": "text/x-python",
   "name": "python",
   "nbconvert_exporter": "python",
   "pygments_lexer": "ipython3",
   "version": "3.6.1"
  }
 },
 "nbformat": 4,
 "nbformat_minor": 2
}
