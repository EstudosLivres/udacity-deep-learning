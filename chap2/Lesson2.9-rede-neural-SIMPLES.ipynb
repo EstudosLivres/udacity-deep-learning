{
 "cells": [
  {
   "cell_type": "markdown",
   "metadata": {},
   "source": [
    "# Exercício de rede simples\n",
    "\n",
    "Abaixo, você usará o Numpy para __calcular o output__ de uma __rede neural simples__ com __dois nós de input__ e __um nó de output__ com uma _função de ativação sigmóide_. Para isso, será necessário:\n",
    "\n",
    "* Implementar a função sigmóide;\n",
    "* Calcular o output da rede.\n",
    "\n",
    "Lembre-se que a função sigmóide é a seguinte:\n",
    "sigmoid(x)=1/(1+e^−x)\n",
    "\n",
    "Para a exponenciação, é possível utilizar a função do numpy: ```np.exp```.\n",
    "\n",
    "E o output da rede é\n",
    "y=f(h)=sigmoid(∑i wixi +b)\n",
    "\n",
    "### Gradiente Descendente (produto escalar de vetores/matrizes)\n",
    "Para a __soma dos pesos__: fazer uma multiplicação e somar elemento à elemento simples, ou então usar a __[função de produto escalar function](https://docs.scipy.org/doc/numpy/reference/generated/numpy.dot.html)__ do Numpy."
   ]
  },
  {
   "cell_type": "code",
   "execution_count": 1,
   "metadata": {},
   "outputs": [
    {
     "name": "stdout",
     "output_type": "stream",
     "text": [
      "Output: 0.432907095035\n"
     ]
    }
   ],
   "source": [
    "import numpy as np\n",
    "\n",
    "def sigmoid(x):\n",
    "    # DONE: Implement sigmoid function\n",
    "    return 1/(1 + np.exp(-x)) \n",
    "\n",
    "inputs = np.array([0.7, -0.3])\n",
    "weights = np.array([0.1, 0.8])\n",
    "bias = -0.1\n",
    "\n",
    "# DONE: Calculate the output\n",
    "x = np.dot(weights, inputs) + bias\n",
    "output = sigmoid(x)\n",
    "\n",
    "print('Output:', output)"
   ]
  },
  {
   "cell_type": "code",
   "execution_count": null,
   "metadata": {
    "collapsed": true
   },
   "outputs": [],
   "source": []
  }
 ],
 "metadata": {
  "kernelspec": {
   "display_name": "Python 3",
   "language": "python",
   "name": "python3"
  },
  "language_info": {
   "codemirror_mode": {
    "name": "ipython",
    "version": 3
   },
   "file_extension": ".py",
   "mimetype": "text/x-python",
   "name": "python",
   "nbconvert_exporter": "python",
   "pygments_lexer": "ipython3",
   "version": "3.6.1"
  }
 },
 "nbformat": 4,
 "nbformat_minor": 2
}
