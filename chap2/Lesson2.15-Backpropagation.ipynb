{
 "cells": [
  {
   "cell_type": "markdown",
   "metadata": {},
   "source": [
    "## Exercício de Backpropagation\n",
    "\n",
    "Implementar o código para __calcular uma rodada de atualização com backpropagation__ para __dois conjuntos de pesos__. O andamento para frente já foi feito, o seu objetivo é escrever o andamento para trás.\n",
    "\n",
    "Coisas a fazer\n",
    "\n",
    "1. Calcular o __erro da rede__.\n",
    "  * R: y - y^ (predição da rede) <br><br>\n",
    "1. Calcular o __gradiente de erro__ da __camada de output__.\n",
    "  * R: erro*(sigmoid_prime(derivada)) = erro * (output * (1 - output)) <br><br>\n",
    "1. Usar a __backpropagation__ para __calcular__ o __erro da camada oculta__.\n",
    "  * R: \n",
    "    * __Combinação Linear__ do __ERRO\\_OUTPUT__ com os __PESOS\\_OUTPUT\\_HIDDEN__ vezes:\n",
    "    * a __derivada__ do OUTPUT\\_HIDDEN\\_LAYER, que no Python fica:\n",
    "      * __Combinação Linear__: ```np.dot(output_error_term, weights_hidden_output)```\n",
    "      * __Derivada__ do Output da camada Oculta: ```hidden_layer_output*(1 - hidden_layer_output)```\n",
    "      * ```np.dot(output_error_term, weights_hidden_output)*hidden_layer_output*(1 - hidden_layer_output)```  <br><br>\n",
    "1. Calcular o __passo de atualização dos pesos__.\n",
    "  * R:\n",
    "    * delta_w_hidden_out = learnrate * output_error_term * hidden_layer_output\n",
    "    * delta_w_input_hidden = learnrate * hidden_error_term * x[:, None]\n",
    "  \n",
    "  \n",
    "  \n",
    "## Resultado do \"Experimento\":\n",
    "1. dado os __inputs(dataset) [0.5, 0.1, -0.2]__; \n",
    "1. jogamos os __pesos \"aleatórios\"__: \n",
    "  * de input: [[0.5, -0.6],[0.1, -0.2],[0.1, 0.7]];\n",
    "  * de output: [0.1, -0.3];\n",
    "1. a rede aprendeu que era necessário variar em:\n",
    "  * hidden-to-output: [0.00804047  0.00555918]\n",
    "  * input-to-hidden: [[1.77005547e-04  -5.11178506e-04], [3.54011093e-05  -1.02235701e-04], [-7.08022187e-05   2.04471402e-04]]"
   ]
  },
  {
   "cell_type": "code",
   "execution_count": 9,
   "metadata": {},
   "outputs": [
    {
     "name": "stdout",
     "output_type": "stream",
     "text": [
      "Change in weights for hidden layer to output layer:\n",
      "[ 0.00804047  0.00555918]\n",
      "Change in weights for input layer to hidden layer:\n",
      "[[  1.77005547e-04  -5.11178506e-04]\n",
      " [  3.54011093e-05  -1.02235701e-04]\n",
      " [ -7.08022187e-05   2.04471402e-04]]\n"
     ]
    }
   ],
   "source": [
    "import numpy as np\n",
    "\n",
    "\n",
    "def sigmoid(x):\n",
    "    return 1 / (1 + np.exp(-x))\n",
    "\n",
    "# inputs\n",
    "x = np.array([0.5, 0.1, -0.2])\n",
    "# y\n",
    "target = 0.6\n",
    "# n\n",
    "learnrate = 0.5 \n",
    "\n",
    "# hidden layer INPUT weights (W)\n",
    "weights_input_hidden = np.array([[0.5, -0.6],\n",
    "                                 [0.1, -0.2],\n",
    "                                 [0.1, 0.7]])\n",
    "\n",
    "# hidden layer OUTPUT weights\n",
    "weights_hidden_output = np.array([0.1, -0.3])\n",
    "\n",
    "## Forward pass (passing to next layer)\n",
    "hidden_layer_input = np.dot(x, weights_input_hidden)\n",
    "hidden_layer_output = sigmoid(hidden_layer_input)\n",
    "\n",
    "output_layer_in = np.dot(hidden_layer_output, weights_hidden_output)\n",
    "output = sigmoid(output_layer_in)\n",
    "\n",
    "## Backwards pass\n",
    "## TODO: Calculate output error\n",
    "# DONE: y - y^ (y-heat = prediction)\n",
    "error = target - output\n",
    "\n",
    "# TODO: Calculate error term for output layer\n",
    "# DONE: error * derivated of output\n",
    "output_error_term = error * output * (1 - output)\n",
    "\n",
    "# TODO: Calculate error term for hidden layer\n",
    "# DONE: error * derivated of output\n",
    "linear_combination_output_error_and_hidden_weights = np.dot(output_error_term, weights_hidden_output)\n",
    "derivated_output = hidden_layer_output * (1 - hidden_layer_output)\n",
    "hidden_error_term = linear_combination_output_error_and_hidden_weights * derivated_output\n",
    "\n",
    "# TODO: Calculate change in weights for hidden layer to output layer\n",
    "# DONE: Global formula: delta_w = n*(y-y^)*ƒ'(h)\n",
    "## n = learnrate\n",
    "## (y-y^) = error\n",
    "## (y-y^)*ƒ'(h) = error_term\n",
    "delta_w_hidden_out = learnrate * output_error_term * hidden_layer_output\n",
    "\n",
    "# TODO: Calculate change in weights for input layer to hidden layer\n",
    "x_as_column_vector = x[:, None]\n",
    "delta_w_input_hidden = learnrate * hidden_error_term * x_as_column_vector\n",
    "\n",
    "print('Change in weights for hidden layer to output layer:')\n",
    "print(delta_w_hidden_out)\n",
    "print('Change in weights for input layer to hidden layer:')\n",
    "print(delta_w_input_hidden)"
   ]
  },
  {
   "cell_type": "code",
   "execution_count": null,
   "metadata": {
    "collapsed": true
   },
   "outputs": [],
   "source": []
  }
 ],
 "metadata": {
  "kernelspec": {
   "display_name": "Python 3",
   "language": "python",
   "name": "python3"
  },
  "language_info": {
   "codemirror_mode": {
    "name": "ipython",
    "version": 3
   },
   "file_extension": ".py",
   "mimetype": "text/x-python",
   "name": "python",
   "nbconvert_exporter": "python",
   "pygments_lexer": "ipython3",
   "version": "3.6.1"
  }
 },
 "nbformat": 4,
 "nbformat_minor": 2
}
