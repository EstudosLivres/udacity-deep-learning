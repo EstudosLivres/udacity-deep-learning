{
 "cells": [
  {
   "cell_type": "markdown",
   "metadata": {},
   "source": [
    "## Quiz de programação\n",
    "A seguir, você implementará uma rede 4x3x2 orientada a frente, com funções de ativação sigmóide em ambas as camadas.\n",
    "\n",
    "\n",
    "Coisas a fazer:\n",
    "* Calcular o input da camada oculta.\n",
    "* Calcular o output da camada oculta.\n",
    "* Calcular o input da camada de output.\n",
    "* Calcular o output da rede.\n",
    "\n",
    "\n",
    "__Resolução com Entendimento__:\n",
    " ```python\n",
    "     # hidden_in é o produto escalar dos inputs * matriz de Pesos\n",
    "     hidden_layer_in = np.dot(X, weights_input_to_hidden) \n",
    "     \n",
    "     # hidden_out é seu input passado pela função de ativação, neste caso a sigmoid\n",
    "     hidden_layer_out = sigmoid(hidden_layer_in)\n",
    " ```"
   ]
  },
  {
   "cell_type": "code",
   "execution_count": 3,
   "metadata": {},
   "outputs": [
    {
     "name": "stdout",
     "output_type": "stream",
     "text": [
      "Hidden-layer Output:\n",
      "[ 0.41492192  0.42604313  0.5002434 ]\n",
      "Output-layer Output:\n",
      "[ 0.49815196  0.48539772]\n"
     ]
    }
   ],
   "source": [
    "import numpy as np\n",
    "\n",
    "def sigmoid(x):\n",
    "    \"\"\"\n",
    "    Calculate sigmoid\n",
    "    \"\"\"\n",
    "    return 1/(1+np.exp(-x))\n",
    "\n",
    "# Network size\n",
    "N_input = 4\n",
    "N_hidden = 3\n",
    "N_output = 2\n",
    "\n",
    "np.random.seed(42)\n",
    "# Make some fake data\n",
    "X = np.random.randn(4)\n",
    "\n",
    "weights_input_to_hidden = np.random.normal(0, scale=0.1, size=(N_input, N_hidden))\n",
    "weights_hidden_to_output = np.random.normal(0, scale=0.1, size=(N_hidden, N_output))\n",
    "\n",
    "\n",
    "# TODO: Make a forward pass through the network\n",
    "\n",
    "# hidden_in é o produto escalar dos inputs * matriz de Pesos\n",
    "hidden_layer_in = np.dot(X, weights_input_to_hidden)\n",
    "# hidden_out é seu input passado pela função de ativação, neste caso a sigmoid\n",
    "hidden_layer_out = sigmoid(hidden_layer_in) \n",
    "\n",
    "print('Hidden-layer Output:')\n",
    "print(hidden_layer_out)\n",
    "\n",
    "# output_in final da Rede será o produto escalar do hidden_out pela matriz de pesos vinda do hidden\n",
    "output_layer_in = np.dot(hidden_layer_out, weights_hidden_to_output)\n",
    "# output_out será seu próprio input calculado (produto escalar) passado pela função de ativação, neste caso a sigmoid\n",
    "output_layer_out = sigmoid(output_layer_in)\n",
    "\n",
    "print('Output-layer Output:')\n",
    "print(output_layer_out)"
   ]
  },
  {
   "cell_type": "code",
   "execution_count": null,
   "metadata": {
    "collapsed": true
   },
   "outputs": [],
   "source": []
  }
 ],
 "metadata": {
  "kernelspec": {
   "display_name": "Python 3",
   "language": "python",
   "name": "python3"
  },
  "language_info": {
   "codemirror_mode": {
    "name": "ipython",
    "version": 3
   },
   "file_extension": ".py",
   "mimetype": "text/x-python",
   "name": "python",
   "nbconvert_exporter": "python",
   "pygments_lexer": "ipython3",
   "version": "3.6.1"
  }
 },
 "nbformat": 4,
 "nbformat_minor": 2
}
